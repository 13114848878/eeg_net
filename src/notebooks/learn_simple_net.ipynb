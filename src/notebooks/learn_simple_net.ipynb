{
 "cells": [
  {
   "cell_type": "code",
   "execution_count": 85,
   "metadata": {},
   "outputs": [],
   "source": [
    "from __future__ import absolute_import\n",
    "from __future__ import print_function\n",
    "import numpy as np\n",
    "\n",
    "import random\n",
    "from keras.datasets import mnist\n",
    "from keras.models import Sequential, Model\n",
    "from keras.layers import Dense, Dropout, Input, Lambda, Activation, Reshape\n",
    "from keras.optimizers import RMSprop\n",
    "from keras import backend as K\n",
    "from keras.layers.convolutional import Conv1D, Conv2D\n",
    "from keras import optimizers\n",
    "import sys\n",
    "import keras.utils\n",
    "import os\n",
    "sys.path.append(os.path.join(sys.path[0], '../utils'))\n",
    "from load_mat_file import load_mat_file\n",
    "from keras.callbacks import TensorBoard\n",
    "import copy\n",
    "#import matplotlib as plt"
   ]
  },
  {
   "cell_type": "code",
   "execution_count": 139,
   "metadata": {},
   "outputs": [],
   "source": [
    "def create_network(input_dim, num_classes):\n",
    "    '''Base network to be shared (eq. to feature extraction).\n",
    "    '''\n",
    "    seq = Sequential()\n",
    "    seq.add(Dense(128, input_shape=(input_dim,)))\n",
    "    seq.add(Activation('relu'));\n",
    "    seq.add(Dropout(0.1))\n",
    "    seq.add(Dense(128, activation='relu'))\n",
    "    seq.add(Dropout(0.1))\n",
    "    seq.add(Dense(num_classes, activation='relu'))\n",
    "    model.add(Activation('softmax'))\n",
    "    return seq\n",
    "\n",
    "\n",
    "def create_network_tu(max_words, num_classes):\n",
    "    model = Sequential()\n",
    "    model.add(Dense(512, input_shape=(max_words,)))\n",
    "    model.add(Activation('relu'))\n",
    "    model.add(Dropout(0.5))\n",
    "    model.add(Dense(num_classes))\n",
    "    model.add(Activation('softmax'))\n",
    "    return model;\n",
    "\n",
    "\n",
    "def compute_accuracy(predictions, labels):\n",
    "    '''Compute classification accuracy with a fixed threshold on distances.\n",
    "    '''\n",
    "    return labels[predictions.ravel() < 0.5].mean()\n",
    "\n",
    "\n",
    "def create_network_eeg_conv1(input_dim, num_classes):\n",
    "    seq = Sequential()\n",
    "    seq.add(Reshape((1, input_dim,), input_shape=(input_dim,)))\n",
    "    seq.add(Conv1D(32, 51, strides=25, padding='same', input_shape=(1, input_dim,), activation='relu'))\n",
    "    seq.add(Activation('relu'));\n",
    "    seq.add(Dense(units=128))\n",
    "    seq.add(Activation('relu'));\n",
    "    seq.add(Dense(units=num_classes))\n",
    "    seq.add(Activation('softmax'));\n",
    "    return seq;"
   ]
  },
  {
   "cell_type": "code",
   "execution_count": 87,
   "metadata": {
    "scrolled": true
   },
   "outputs": [
    {
     "data": {
      "text/plain": [
       "'/home/roma/work/projects/eeg_net/src/notebooks'"
      ]
     },
     "execution_count": 87,
     "metadata": {},
     "output_type": "execute_result"
    }
   ],
   "source": [
    "os.getcwd()"
   ]
  },
  {
   "cell_type": "code",
   "execution_count": 143,
   "metadata": {
    "scrolled": true
   },
   "outputs": [
    {
     "name": "stdout",
     "output_type": "stream",
     "text": [
      "X_data_shape:  (180, 275, 21)\n",
      "Y_data_shape:  (180, 1)\n",
      "X_data_reshapedshape:  (180, 5775)\n",
      "number of samples: 180\n",
      "size_of_sample: 5775\n",
      "num_classes:  2\n"
     ]
    }
   ],
   "source": [
    "EEG_FILENAME = 'D0000168'\n",
    "CHANNELS_NUM = 21\n",
    "sel_channels = slice(0, CHANNELS_NUM)\n",
    "sel_time = slice(None,None,1) #quanta time\n",
    "EEG = load_mat_file('../../data/eegmat_selected/' + EEG_FILENAME, 's')\n",
    "X_data = EEG[\"eeg\"][0][0]\n",
    "Y_data = EEG[\"mrk\"][0][0]\n",
    "#X_data = load_mat_file('../../data/test_data2', 'X');\n",
    "#Y_data = load_mat_file('../../data/test_data2', 'Y');\n",
    "#Y_data= np.swapaxes(Y_data, 1,0)\n",
    "X_data = np.swapaxes(X_data, 2,0)\n",
    "X_data = np.swapaxes(X_data, 1,2)\n",
    "print('X_data_shape: ', X_data.shape)\n",
    "print('Y_data_shape: ', Y_data.shape)\n",
    "OneChannel_data = X_data[:,sel_time,sel_channels];\n",
    "OneChannel_data = OneChannel_data.reshape(OneChannel_data.shape[0], OneChannel_data.shape[1]*OneChannel_data.shape[2])\n",
    "print('X_data_reshapedshape: ', OneChannel_data.shape)\n",
    "size_of_sample = OneChannel_data.shape[1];\n",
    "number_of_samples = OneChannel_data.shape[0];\n",
    "print('number of samples:', number_of_samples)\n",
    "print('size_of_sample:', size_of_sample)\n",
    "Y_data\n",
    "Y_data = Y_data - 1;\n",
    "Y_data = Y_data.reshape(Y_data.shape[0])\n",
    "num_classes = max(Y_data) + 1;\n",
    "print('num_classes: ', num_classes)\n",
    "y_= keras.utils.to_categorical(Y_data, num_classes);\n",
    "x_= OneChannel_data;\n",
    "test_prop = 0.1;\n",
    "test_size= round(test_prop * number_of_samples, 0);\n",
    "test_size = int(test_size)\n",
    "train_size = number_of_samples - test_size;"
   ]
  },
  {
   "cell_type": "code",
   "execution_count": 144,
   "metadata": {},
   "outputs": [
    {
     "name": "stdout",
     "output_type": "stream",
     "text": [
      "train size:  162\n",
      "test size:  18\n"
     ]
    }
   ],
   "source": [
    "#random shuffle of dataset and train-test split\n",
    "idx = np.random.choice(np.arange(x_.shape[0]), x_.shape[0], replace=False)\n",
    "idx_train = idx[0:train_size]\n",
    "idx_test = idx[train_size:]\n",
    "print('train size: ', train_size)\n",
    "print('test size: ', test_size)\n",
    "y_train = y_[idx_train];\n",
    "x_train = x_[idx_train];\n",
    "y_test= y_[idx_test];\n",
    "x_test= x_[idx_test];"
   ]
  },
  {
   "cell_type": "code",
   "execution_count": null,
   "metadata": {
    "scrolled": true
   },
   "outputs": [
    {
     "name": "stdout",
     "output_type": "stream",
     "text": [
      "Train on 113 samples, validate on 49 samples\n",
      "Epoch 1/20\n",
      "113/113 [==============================] - 4s 35ms/step - loss: 5.7552 - acc: 0.4159 - val_loss: 4.1987 - val_acc: 0.4286\n",
      "Epoch 2/20\n",
      "113/113 [==============================] - 4s 34ms/step - loss: 2.4384 - acc: 0.6637 - val_loss: 3.7649 - val_acc: 0.4490\n",
      "Epoch 3/20\n",
      "113/113 [==============================] - 4s 34ms/step - loss: 1.1738 - acc: 0.7788 - val_loss: 3.8245 - val_acc: 0.4490\n",
      "Epoch 4/20\n",
      "113/113 [==============================] - 4s 34ms/step - loss: 0.9821 - acc: 0.8142 - val_loss: 3.5938 - val_acc: 0.4286\n",
      "Epoch 5/20\n",
      "113/113 [==============================] - 4s 34ms/step - loss: 0.3356 - acc: 0.8850 - val_loss: 3.5912 - val_acc: 0.4694\n",
      "Epoch 6/20\n",
      "113/113 [==============================] - 4s 34ms/step - loss: 0.4726 - acc: 0.9027 - val_loss: 3.8077 - val_acc: 0.4082\n",
      "Epoch 7/20\n",
      "113/113 [==============================] - 4s 34ms/step - loss: 0.3455 - acc: 0.9027 - val_loss: 3.7438 - val_acc: 0.4694\n",
      "Epoch 8/20\n",
      "113/113 [==============================] - 4s 34ms/step - loss: 0.4807 - acc: 0.9027 - val_loss: 3.7955 - val_acc: 0.4286\n",
      "Epoch 9/20\n",
      "113/113 [==============================] - 4s 34ms/step - loss: 0.3729 - acc: 0.8938 - val_loss: 3.7415 - val_acc: 0.4490\n",
      "Epoch 10/20\n",
      "  7/113 [>.............................] - ETA: 3s - loss: 0.0038 - acc: 1.0000  "
     ]
    }
   ],
   "source": [
    "batch_size = 1;\n",
    "epochs = 20;\n",
    "\n",
    "\n",
    "#model = create_network_eeg_conv1(size_of_sample, num_classes)\n",
    "model = create_network_tu(size_of_sample, num_classes)\n",
    "sgd = optimizers.Adagrad(lr=0.0005, decay=1e-5)\n",
    "model.compile(loss='categorical_crossentropy',\n",
    "              optimizer=sgd,\n",
    "              metrics=['accuracy'])\n",
    "\n",
    "tensorboard=TensorBoard(log_dir='./logs', write_graph=True)\n",
    "\n",
    "history = model.fit(x_train, y_train,\n",
    "                    batch_size=batch_size,\n",
    "                    epochs=epochs,\n",
    "                    verbose=1,\n",
    "                    validation_split=0.3,\n",
    "                    callbacks=[tensorboard])\n",
    "\n",
    "score = model.evaluate(x_test, y_test, batch_size=batch_size)\n",
    "print(score)"
   ]
  }
 ],
 "metadata": {
  "kernelspec": {
   "display_name": "Python 3",
   "language": "python",
   "name": "python3"
  },
  "language_info": {
   "codemirror_mode": {
    "name": "ipython",
    "version": 3
   },
   "file_extension": ".py",
   "mimetype": "text/x-python",
   "name": "python",
   "nbconvert_exporter": "python",
   "pygments_lexer": "ipython3",
   "version": "3.6.1"
  }
 },
 "nbformat": 4,
 "nbformat_minor": 1
}
