{
 "cells": [
  {
   "cell_type": "code",
   "execution_count": 12,
   "metadata": {},
   "outputs": [],
   "source": [
    "from __future__ import absolute_import\n",
    "from __future__ import print_function\n",
    "import numpy as np\n",
    "\n",
    "import random\n",
    "from keras.datasets import mnist\n",
    "from keras.models import Sequential, Model\n",
    "from keras.layers import Dense, Dropout, Input, Lambda, Activation, Reshape\n",
    "from keras.optimizers import RMSprop\n",
    "from keras import backend as K\n",
    "from keras.layers.convolutional import Conv1D, Conv2D\n",
    "from sympy.core.numbers import One\n",
    "import sys\n",
    "import keras.utils\n",
    "import os\n",
    "sys.path.append(os.path.join(sys.path[0], '../utils'))\n",
    "from load_mat_file import load_mat_file\n",
    "from keras.callbacks import TensorBoard"
   ]
  },
  {
   "cell_type": "code",
   "execution_count": 13,
   "metadata": {},
   "outputs": [
    {
     "name": "stdout",
     "output_type": "stream",
     "text": [
      "['', '/root/caffe/python', '/workspace/Projects/Roma/eeg_net/src/notebooks', '/usr/lib/python2.7', '/usr/lib/python2.7/plat-x86_64-linux-gnu', '/usr/lib/python2.7/lib-tk', '/usr/lib/python2.7/lib-old', '/usr/lib/python2.7/lib-dynload', '/usr/local/lib/python2.7/dist-packages', '/usr/lib/python2.7/dist-packages', '/usr/lib/python2.7/dist-packages/PILcompat', '/usr/lib/python2.7/dist-packages/gtk-2.0', '/usr/lib/pymodules/python2.7', '/usr/local/lib/python2.7/dist-packages/IPython/extensions', '/root/.ipython', '../utils', '../utils', '../utils', '../utils']\n"
     ]
    }
   ],
   "source": [
    "import os\n",
    "os.getcwd()\n",
    "print (sys.path)"
   ]
  },
  {
   "cell_type": "code",
   "execution_count": 14,
   "metadata": {},
   "outputs": [],
   "source": [
    "def create_network(input_dim, num_classes):\n",
    "    '''Base network to be shared (eq. to feature extraction).\n",
    "    '''\n",
    "    seq = Sequential()\n",
    "    seq.add(Dense(128, input_shape=(input_dim,)))\n",
    "    seq.add(Activation('relu'));\n",
    "    seq.add(Dropout(0.1))\n",
    "    seq.add(Dense(128, activation='relu'))\n",
    "    seq.add(Dropout(0.1))\n",
    "    seq.add(Dense(num_classes, activation='relu'))\n",
    "    model.add(Activation('softmax'))\n",
    "    return seq\n",
    "\n",
    "\n",
    "def create_network_tu(max_words, num_classes):\n",
    "    model = Sequential()\n",
    "    model.add(Dense(512, input_shape=(max_words,)))\n",
    "    model.add(Activation('relu'))\n",
    "    model.add(Dropout(0.5))\n",
    "    model.add(Dense(num_classes))\n",
    "    model.add(Activation('softmax'))\n",
    "    return model;\n",
    "\n",
    "\n",
    "def compute_accuracy(predictions, labels):\n",
    "    '''Compute classification accuracy with a fixed threshold on distances.\n",
    "    '''\n",
    "    return labels[predictions.ravel() < 0.5].mean()\n",
    "\n",
    "\n",
    "def create_network_eeg_conv1(input_dim, num_classes):\n",
    "    seq = Sequential()\n",
    "    seq.add(Reshape((1, input_dim,), input_shape=(input_dim,)))\n",
    "    seq.add(Conv1D(32, 51, strides=25, padding='same', input_shape=(1, input_dim,), activation='relu'))\n",
    "    seq.add(Activation('relu'));\n",
    "    seq.add(Dense(units=128))\n",
    "    seq.add(Activation('relu'));\n",
    "    seq.add(Dense(units=num_classes))\n",
    "    seq.add(Activation('softmax'));\n",
    "    return seq;"
   ]
  },
  {
   "cell_type": "code",
   "execution_count": null,
   "metadata": {},
   "outputs": [],
   "source": [
    "X_data = load_mat_file('test_data2', 'X');\n",
    "Y_data = load_mat_file('test_data2', 'Y');\n",
    "\n",
    "OneChannel_data = X_data[:,:,55:60];\n",
    "OneChannel_data = OneChannel_data.reshape(OneChannel_data.shape[0], OneChannel_data.shape[1]*OneChannel_data.shape[2])\n",
    "size_of_sample = OneChannel_data.shape[1];\n",
    "number_of_samples = OneChannel_data.shape[0];\n",
    "Y_data = Y_data - 1;\n",
    "Y_data = Y_data.reshape(Y_data.shape[1]);\n",
    "num_classes = max(Y_data) + 1;\n",
    "\n",
    "y_= keras.utils.to_categorical(Y_data, num_classes);\n",
    "x_= OneChannel_data;\n",
    "test_prop = 0.1;\n",
    "test_size= round(test_prop * number_of_samples, 0);\n",
    "test_size = int(test_size)\n",
    "train_size = number_of_samples - test_size;\n",
    "\n",
    "y_train = y_[0:train_size];\n",
    "x_train = x_[0:train_size];\n",
    "\n",
    "y_test= y_[train_size:];\n",
    "x_test= x_[train_size:];\n",
    "\n",
    "batch_size = 20;\n",
    "epochs = 100;\n",
    "\n",
    "\n",
    "#model = create_network_eeg_conv1(size_of_sample, num_classes)\n",
    "model = create_network_tu(size_of_sample, num_classes)\n",
    "model.compile(loss='categorical_crossentropy',\n",
    "              optimizer='sgd',\n",
    "              metrics=['accuracy'])\n",
    "\n",
    "tensorboard=TensorBoard(log_dir='./logs', write_graph=True)\n",
    "\n",
    "history = model.fit(x_train, y_train,\n",
    "                    batch_size=batch_size,\n",
    "                    epochs=epochs,\n",
    "                    verbose=1,\n",
    "                    validation_split=0.1,\n",
    "                    callbacks=[tensorboard])\n",
    "\n",
    "score = model.evaluate(x_test, y_test, batch_size=batch_size)\n",
    "print(score)\n",
    "print(score)"
   ]
  }
 ],
 "metadata": {
  "kernelspec": {
   "display_name": "Python 2",
   "language": "python",
   "name": "python2"
  },
  "language_info": {
   "codemirror_mode": {
    "name": "ipython",
    "version": 2
   },
   "file_extension": ".py",
   "mimetype": "text/x-python",
   "name": "python",
   "nbconvert_exporter": "python",
   "pygments_lexer": "ipython2",
   "version": "2.7.6"
  }
 },
 "nbformat": 4,
 "nbformat_minor": 1
}
